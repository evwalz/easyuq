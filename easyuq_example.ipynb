{
 "cells": [
  {
   "cell_type": "code",
   "execution_count": null,
   "id": "6321e078",
   "metadata": {},
   "outputs": [],
   "source": [
    "import numpy as np\n",
    "import pandas as pd\n",
    "import random\n",
    "from isodisreg import idr\n",
    "from statsmodels.nonparametric.bandwidths import bw_silverman\n",
    "from helper_functions import llscore, crps_smooth, optimize_paras_onefit, optimize_paras_cvfit"
   ]
  },
  {
   "cell_type": "code",
   "execution_count": null,
   "id": "72b943aa",
   "metadata": {},
   "outputs": [],
   "source": [
    "# Simulate data\n",
    "n = 1000\n",
    "forecast = np.random.uniform(low=0.0, high=10.0, size=n)\n",
    "y_true = np.random.gamma(shape = np.sqrt(x), scale=np.minimum(np.maximum(x, 2), 8), size=n)  "
   ]
  },
  {
   "cell_type": "code",
   "execution_count": null,
   "id": "28e0aabb",
   "metadata": {},
   "outputs": [],
   "source": [
    "# Divide into train and test: 80 / 20\n",
    "split_ix = int(np.floor(n * 0.8))\n",
    "ix_data = np.arange(n)\n",
    "random.shuffle(ix_data)\n",
    "forecast_train = forecast[:split_ix]\n",
    "forecast_test = forecast[split_ix:]\n",
    "y_true_train = y_true[:split_ix]\n",
    "y_true_test = y_true[split_ix:]"
   ]
  },
  {
   "cell_type": "code",
   "execution_count": null,
   "id": "1ee9b2cc",
   "metadata": {},
   "outputs": [],
   "source": [
    "# Fit EasyUQ\n",
    "fitted_idr = idr(y_train, pd.DataFrame({\"fore\": forecast_train}, columns=[\"fore\"]))\n",
    "preds_test = fitted_idr.predict(pd.DataFrame({\"fore\": forecast_test}, columns=[\"fore\"]))"
   ]
  },
  {
   "cell_type": "code",
   "execution_count": null,
   "id": "d8129397",
   "metadata": {},
   "outputs": [],
   "source": [
    "# Smoothing with ONE-FIT:\n",
    "h, df = optimize_paras_onefit(fitted_idr, y_true_train)\n",
    "\n",
    "ll = np.round(llscore(preds_test, y_true_test, h, df), 4)\n",
    "crps_scdf = np.round(crps_smooth(preds_test, y_true_test, h, df), 4)\n",
    "crps_idr = np.round(np.mean(preds_test.crps(y_true_test)), 4)\n",
    "\n",
    "print('CRPS IDR: %d' % crps_idr)\n",
    "print('CRPS smooth: %d' % crps_scdf)\n",
    "print('Log score: %d' % ll)"
   ]
  },
  {
   "cell_type": "code",
   "execution_count": null,
   "id": "d9770217",
   "metadata": {},
   "outputs": [],
   "source": [
    "# Smoothing with cross validation:\n",
    "h, df = optimize_paras_cvfit(fitted_idr, y_true_train)\n",
    "\n",
    "ll = np.round(llscore(preds_test, y_true_test, h, df), 4)\n",
    "crps_scdf = np.round(crps_smooth(preds_test, y_true_test, h, df), 4)\n",
    "crps_idr = np.round(np.mean(preds_test.crps(y_true_test)), 4)\n",
    "\n",
    "print('CRPS IDR: %d' % crps_idr)\n",
    "print('CRPS smooth: %d' % crps_scdf)\n",
    "print('Log score: %d' % ll)"
   ]
  },
  {
   "cell_type": "code",
   "execution_count": null,
   "id": "4e1f04d5",
   "metadata": {},
   "outputs": [],
   "source": [
    "# Smoothing using Gaussian kernel and Silverman's rule of thumb:\n",
    "rot = bw_silverman(y_true_train)\n",
    "\n",
    "ll = np.round(llscore(preds_test, y_true_test, h = rot, df=None), 4)\n",
    "crps_scdf = np.round(crps_smooth(preds_test, y_true_test, h = rot, df=None), 4)\n",
    "crps_idr = np.round(np.mean(preds_test.crps(y_true_test)), 4)\n",
    "\n",
    "print('CRPS IDR: %d' % crps_idr)\n",
    "print('CRPS smooth: %d' % crps_scdf)\n",
    "print('Log score: %d' % ll)"
   ]
  }
 ],
 "metadata": {
  "kernelspec": {
   "display_name": "py38",
   "language": "python",
   "name": "py38"
  },
  "language_info": {
   "codemirror_mode": {
    "name": "ipython",
    "version": 3
   },
   "file_extension": ".py",
   "mimetype": "text/x-python",
   "name": "python",
   "nbconvert_exporter": "python",
   "pygments_lexer": "ipython3",
   "version": "3.8.5"
  }
 },
 "nbformat": 4,
 "nbformat_minor": 5
}
