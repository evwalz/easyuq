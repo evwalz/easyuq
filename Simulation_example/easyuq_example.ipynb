{
 "cells": [
  {
   "cell_type": "markdown",
   "id": "62acca61",
   "metadata": {},
   "source": [
    "# EasyUQ\n",
    "\n",
    "Show EasyUQ method on simulated data. For smooth EasyUQ find \"optimal\" degree of freedom (df) and bandwidth (h). Note that df = None refers to gaussian kernel. Moreover df can be 2, 3, 4, 5, 10, 20 with student t kernel. Bandwidth is fitted by optimizing log score (Blends method). \n",
    "\n",
    "Approaches to find optimal set of df and h:\n",
    "\n",
    "    1. One-fit approach\n",
    "    2. Cross validation approach (with cv = 3 and leave-one-out cv)\n",
    "    3. Using gaussian kernel and silvermans rule of thumb for bandwidth"
   ]
  },
  {
   "cell_type": "code",
   "execution_count": 1,
   "id": "bba1daab",
   "metadata": {},
   "outputs": [],
   "source": [
    "import numpy as np\n",
    "import pandas as pd\n",
    "import random\n",
    "from isodisreg import idr\n",
    "from statsmodels.nonparametric.bandwidths import bw_silverman\n",
    "from helper_functions import llscore, smooth_crps, optimize_paras_onefit, optimize_paras_cvfit"
   ]
  },
  {
   "cell_type": "markdown",
   "id": "9418f8c4",
   "metadata": {},
   "source": [
    "Simulation from (2.5) in EasyUQ paper:"
   ]
  },
  {
   "cell_type": "code",
   "execution_count": 2,
   "id": "c414a907",
   "metadata": {},
   "outputs": [],
   "source": [
    "# Simulate data\n",
    "n = 1000\n",
    "forecast = np.random.uniform(low=0.0, high=10.0, size=n)\n",
    "y_true = np.random.gamma(shape = np.sqrt(forecast), scale=np.minimum(np.maximum(forecast, 2), 8), size=n)  "
   ]
  },
  {
   "cell_type": "markdown",
   "id": "c30c889b",
   "metadata": {},
   "source": [
    "Split data into train and test"
   ]
  },
  {
   "cell_type": "code",
   "execution_count": 3,
   "id": "c166c2ae",
   "metadata": {},
   "outputs": [],
   "source": [
    "# Divide into train and test: 80 / 20\n",
    "split_ix = int(np.floor(n * 0.8))\n",
    "ix_data = np.arange(n)\n",
    "random.shuffle(ix_data)\n",
    "forecast_train = forecast[:split_ix]\n",
    "forecast_test = forecast[split_ix:]\n",
    "y_true_train = y_true[:split_ix]\n",
    "y_true_test = y_true[split_ix:]"
   ]
  },
  {
   "cell_type": "markdown",
   "id": "4da0d339",
   "metadata": {},
   "source": [
    "Fit IDR on training data: CDF output is a step function"
   ]
  },
  {
   "cell_type": "code",
   "execution_count": 4,
   "id": "60c34d92",
   "metadata": {},
   "outputs": [],
   "source": [
    "# Fit EasyUQ\n",
    "fitted_idr = idr(y_true_train, pd.DataFrame({\"fore\": forecast_train}, columns=[\"fore\"]))\n",
    "preds_train = fitted_idr.predict(pd.DataFrame({\"fore\": forecast_train}, columns=[\"fore\"]))\n",
    "preds_test = fitted_idr.predict(pd.DataFrame({\"fore\": forecast_test}, columns=[\"fore\"]))"
   ]
  },
  {
   "cell_type": "markdown",
   "id": "d4ee9b8d",
   "metadata": {},
   "source": [
    "Smoothing of IDR as proposed in EasyUQ paper. There are several approaches to find best set of df and h. There is a trade-off between performance and computing time"
   ]
  },
  {
   "cell_type": "code",
   "execution_count": 5,
   "id": "5277024a",
   "metadata": {},
   "outputs": [
    {
     "name": "stdout",
     "output_type": "stream",
     "text": [
      "One-fit df = 2 and h = 0.827369\n",
      "CRPS IDR: 4.381993\n",
      "CRPS smooth: 4.377549\n",
      "Log score: 3.193146\n"
     ]
    }
   ],
   "source": [
    "# Smoothing with ONE-FIT:\n",
    "ll_train, h, df = optimize_paras_onefit(preds_train, y_true_train)\n",
    "\n",
    "ll = llscore(preds_test, y_true_test, h, df)\n",
    "crps_scdf = smooth_crps(preds_test, y_true_test, h, df)\n",
    "crps_idr = np.mean(preds_test.crps(y_true_test))\n",
    "\n",
    "print('One-fit df = %d' %df, 'and h = %f' %h)\n",
    "print('CRPS IDR: %f' % crps_idr)\n",
    "print('CRPS smooth: %f' % crps_scdf)\n",
    "print('Log score: %f' % ll)"
   ]
  },
  {
   "cell_type": "code",
   "execution_count": 6,
   "id": "a2a88b39",
   "metadata": {},
   "outputs": [
    {
     "name": "stdout",
     "output_type": "stream",
     "text": [
      "CV-fit df = 2 and h = 1.204223\n",
      "CRPS IDR: 4.381993\n",
      "CRPS smooth: 4.382789\n",
      "Log score: 3.202911\n"
     ]
    }
   ],
   "source": [
    "# Smoothing with cross validation:\n",
    "ll_train, h, df = optimize_paras_cvfit(forecast_train, y_true_train, cv = 3)\n",
    "\n",
    "ll = llscore(preds_test, y_true_test, h, df)\n",
    "crps_scdf = smooth_crps(preds_test, y_true_test, h, df)\n",
    "crps_idr = np.mean(preds_test.crps(y_true_test))\n",
    "\n",
    "print('CV-fit df = %d' %df, 'and h = %f' %h)\n",
    "print('CRPS IDR: %f' % crps_idr)\n",
    "print('CRPS smooth: %f' % crps_scdf)\n",
    "print('Log score: %f' % ll)"
   ]
  },
  {
   "cell_type": "code",
   "execution_count": 7,
   "id": "33d39fdf",
   "metadata": {},
   "outputs": [
    {
     "name": "stdout",
     "output_type": "stream",
     "text": [
      "LLO-fit df = 2 and h = 0.917030\n",
      "CRPS IDR: 4.381993\n",
      "CRPS smooth: 4.378388\n",
      "Log score: 3.193401\n"
     ]
    }
   ],
   "source": [
    "# Smoothing with leave-one-out cross validation:\n",
    "ll_train, h, df = optimize_paras_cvfit(forecast_train, y_true_train, cv = len(y_true_train))\n",
    "\n",
    "ll = llscore(preds_test, y_true_test, h, df)\n",
    "crps_scdf = smooth_crps(preds_test, y_true_test, h, df)\n",
    "crps_idr = np.mean(preds_test.crps(y_true_test))\n",
    "\n",
    "print('LLO-fit df = %d' %df, 'and h = %f' %h)\n",
    "print('CRPS IDR: %f' % crps_idr)\n",
    "print('CRPS smooth: %f' % crps_scdf)\n",
    "print('Log score: %f' % ll)"
   ]
  },
  {
   "cell_type": "code",
   "execution_count": 8,
   "id": "3894d731",
   "metadata": {},
   "outputs": [
    {
     "name": "stdout",
     "output_type": "stream",
     "text": [
      "Set df = None and Silverman ROT = 2.744865\n",
      "CRPS IDR: 4.381993\n",
      "CRPS smooth: 4.404581\n",
      "Log score: 3.453448\n"
     ]
    }
   ],
   "source": [
    "# Smoothing using Gaussian kernel and Silverman's rule of thumb:\n",
    "rot = bw_silverman(y_true_train)\n",
    "\n",
    "ll = llscore(preds_test, y_true_test, h = rot, df=None)\n",
    "crps_scdf =smooth_crps(preds_test, y_true_test, h = rot, df=None)\n",
    "crps_idr = np.mean(preds_test.crps(y_true_test))\n",
    "\n",
    "print('Set df = None and Silverman ROT = %f' %rot)\n",
    "print('CRPS IDR: %f' % crps_idr)\n",
    "print('CRPS smooth: %f' % crps_scdf)\n",
    "print('Log score: %f' % ll)"
   ]
  },
  {
   "cell_type": "markdown",
   "id": "eb87f5e3",
   "metadata": {},
   "source": [
    "# The End"
   ]
  }
 ],
 "metadata": {
  "kernelspec": {
   "display_name": "py38",
   "language": "python",
   "name": "py38"
  },
  "language_info": {
   "codemirror_mode": {
    "name": "ipython",
    "version": 3
   },
   "file_extension": ".py",
   "mimetype": "text/x-python",
   "name": "python",
   "nbconvert_exporter": "python",
   "pygments_lexer": "ipython3",
   "version": "3.8.5"
  }
 },
 "nbformat": 4,
 "nbformat_minor": 5
}
