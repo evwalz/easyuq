{
 "cells": [
  {
   "cell_type": "markdown",
   "id": "71f933f4",
   "metadata": {},
   "source": [
    "# EasyUQ on weather example\n",
    "\n",
    "    1. Single gaussian applied to WeatherBench data (here: CNN)\n",
    "    2. Smooth EasyUQ applied to WeatherBench data (here: CNN)\n",
    "    3. Conformal prediction applied to WeatherBench data (here: CNN)"
   ]
  },
  {
   "cell_type": "code",
   "execution_count": 1,
   "id": "ccf87e1b",
   "metadata": {},
   "outputs": [],
   "source": [
    "import numpy as np\n",
    "import pandas as pd\n",
    "import xarray as xr\n",
    "import isodisreg \n",
    "from isodisreg import idr\n",
    "from scipy import stats\n",
    "import properscoring as ps\n",
    "from helper_functions import single_gaussian_optim, log_norm"
   ]
  },
  {
   "cell_type": "markdown",
   "id": "5e64e137",
   "metadata": {},
   "source": [
    "### 1. Single gaussian"
   ]
  },
  {
   "cell_type": "markdown",
   "id": "000d2976",
   "metadata": {},
   "source": [
    "Get CNN forecast from WeatherBench to apply single gaussian and smooth EasyUQ"
   ]
  },
  {
   "cell_type": "code",
   "execution_count": 6,
   "id": "a1c9a160",
   "metadata": {},
   "outputs": [],
   "source": [
    "# load via xarray:\n",
    "cnn_forecast_train = xr.open_dataset('./data/cnn_fct_train.nc')\n",
    "cnn_forecast_test = xr.open_dataset('./data/cnn_fct_test.nc')\n",
    "y_train = xr.open_dataset('./data/cnn_obs_train.nc')\n",
    "y_test = xr.open_dataset('./data/cnn_obs_test.nc')\n",
    "\n",
    "# select one grid point:\n",
    "lat = 8.4375\n",
    "lon = 180\n",
    "cnn_fct_grid_train = cnn_forecast_train.sel(lat = lat, lon = lon)['t'].values\n",
    "cnn_fct_grid_test = cnn_forecast_test.sel(lat = lat, lon = lon)['t'].values\n",
    "y_grid_train = y_train.sel(lat = lat, lon = lon)['t'].values\n",
    "y_grid_test = y_test.sel(lat = lat, lon = lon)['t'].values"
   ]
  },
  {
   "cell_type": "markdown",
   "id": "5998b27c",
   "metadata": {},
   "source": [
    "Run single gaussian method"
   ]
  },
  {
   "cell_type": "code",
   "execution_count": 7,
   "id": "07790340",
   "metadata": {},
   "outputs": [
    {
     "name": "stdout",
     "output_type": "stream",
     "text": [
      "Fitted sigma = 0.827519\n",
      "CRPS of single gaussian: 0.401656\n",
      "log score: 1.114682\n"
     ]
    }
   ],
   "source": [
    "sigma = single_gaussian_optim(y_grid_train, cnn_fct_grid_train)\n",
    "crpss = np.mean(ps.crps_gaussian(y_grid_test, mu=cnn_fct_grid_test, sig=sigma)) \n",
    "ll = log_norm(y_grid_test, cnn_fct_grid_test, sigma)\n",
    "print('Fitted sigma = %f' %sigma)\n",
    "print('CRPS of single gaussian: %f' %crpss)\n",
    "print('log score: %f' %ll)"
   ]
  },
  {
   "cell_type": "markdown",
   "id": "5bfff657",
   "metadata": {},
   "source": [
    "### 2. Smooth EasyUQ via One-fit approach"
   ]
  },
  {
   "cell_type": "markdown",
   "id": "03f2366c",
   "metadata": {},
   "source": [
    "Get CNN forecast from WeatherBench to apply single gaussian and smooth EasyUQ"
   ]
  },
  {
   "cell_type": "code",
   "execution_count": 2,
   "id": "94d55f5e",
   "metadata": {},
   "outputs": [],
   "source": [
    "from helper_functions import optimize_paras_onefit, llscore_idr"
   ]
  },
  {
   "cell_type": "code",
   "execution_count": 3,
   "id": "b6b4b733",
   "metadata": {},
   "outputs": [],
   "source": [
    "# load via xarray:\n",
    "cnn_forecast_train = xr.open_dataset('./data/cnn_fct_train.nc')\n",
    "cnn_forecast_test = xr.open_dataset('./data/cnn_fct_test.nc')\n",
    "y_train = xr.open_dataset('./data/cnn_obs_train.nc')\n",
    "y_test = xr.open_dataset('./data/cnn_obs_test.nc')\n",
    "\n",
    "# select one grid point:\n",
    "lat = 8.4375\n",
    "lon = 180\n",
    "cnn_fct_grid_train = cnn_forecast_train.sel(lat = lat, lon = lon)['t'].values\n",
    "cnn_fct_grid_test = cnn_forecast_test.sel(lat = lat, lon = lon)['t'].values\n",
    "y_grid_train = y_train.sel(lat = lat, lon = lon)['t'].values\n",
    "y_grid_test = y_test.sel(lat = lat, lon = lon)['t'].values"
   ]
  },
  {
   "cell_type": "code",
   "execution_count": 4,
   "id": "60b88adc",
   "metadata": {},
   "outputs": [],
   "source": [
    "# Fit EasyUQ\n",
    "fitted_idr = idr(y_grid_train, pd.DataFrame({\"fore\": cnn_fct_grid_train}, columns=[\"fore\"]))\n",
    "preds_train = fitted_idr.predict(pd.DataFrame({\"fore\": cnn_fct_grid_train}, columns=[\"fore\"]))\n",
    "preds_test = fitted_idr.predict(pd.DataFrame({\"fore\": cnn_fct_grid_test}, columns=[\"fore\"]))"
   ]
  },
  {
   "cell_type": "code",
   "execution_count": null,
   "id": "1e136d5e",
   "metadata": {},
   "outputs": [
    {
     "name": "stdout",
     "output_type": "stream",
     "text": [
      "CRPS of EasyUQ: 0.362215\n"
     ]
    }
   ],
   "source": [
    "crps_idr = np.mean(preds_test.crps(y_grid_test))\n",
    "print('CRPS of EasyUQ: %f' %crps_idr)\n",
    "ll_train, h, df = optimize_paras_onefit(preds_train, y_grid_train)\n",
    "ll = llscore_idr(preds_test, y_grid_test, h, df)\n",
    "print('Fitted df = %d' %df , 'and h = %f' %h)\n",
    "print('log score: %f' %ll)"
   ]
  },
  {
   "cell_type": "markdown",
   "id": "36d69fb0",
   "metadata": {},
   "source": [
    "### 3. Conformal predictions\n",
    "\n",
    "Smoothing applied by using a fixed gaussian kernel and silverman's rule of thumb which is applied to each CP ensemble individually"
   ]
  },
  {
   "cell_type": "code",
   "execution_count": 2,
   "id": "dbbca0b1",
   "metadata": {},
   "outputs": [],
   "source": [
    "from helper_functions import rot, algo72_ensemble, llscore_cp"
   ]
  },
  {
   "cell_type": "code",
   "execution_count": 6,
   "id": "8be9be5c",
   "metadata": {},
   "outputs": [],
   "source": [
    "# load via xarray:\n",
    "cnn_forecast_train = xr.open_dataset('./data/cnn_fct_train.nc')\n",
    "cnn_forecast_test = xr.open_dataset('./data/cnn_fct_test.nc')\n",
    "y_train = xr.open_dataset('./data/cnn_obs_train.nc')\n",
    "y_test = xr.open_dataset('./data/cnn_obs_test.nc')\n",
    "\n",
    "# select one grid point:\n",
    "lat = 8.4375\n",
    "lon = 180\n",
    "cnn_fct_grid_train = cnn_forecast_train.sel(lat = lat, lon = lon)['t'].values\n",
    "cnn_fct_grid_test = cnn_forecast_test.sel(lat = lat, lon = lon)['t'].values\n",
    "y_grid_train = y_train.sel(lat = lat, lon = lon)['t'].values\n",
    "y_grid_test = y_test.sel(lat = lat, lon = lon)['t'].values"
   ]
  },
  {
   "cell_type": "code",
   "execution_count": 4,
   "id": "07c49da3",
   "metadata": {},
   "outputs": [],
   "source": [
    "ens_cp = algo72_ensemble(cnn_fct_grid_train, cnn_fct_grid_test, y_grid_train)"
   ]
  },
  {
   "cell_type": "code",
   "execution_count": 8,
   "id": "c183f47e",
   "metadata": {},
   "outputs": [
    {
     "name": "stdout",
     "output_type": "stream",
     "text": [
      "CRPS of CP: 0.362770\n"
     ]
    }
   ],
   "source": [
    "crps_ens = np.mean(ps.crps_ensemble(y_grid_test, ens_cp))\n",
    "print('CRPS of CP: %f' %crps_ens)"
   ]
  },
  {
   "cell_type": "code",
   "execution_count": 9,
   "id": "6221e743",
   "metadata": {},
   "outputs": [
    {
     "name": "stdout",
     "output_type": "stream",
     "text": [
      "log score: 0.994697\n"
     ]
    }
   ],
   "source": [
    "h_rot = rot(ens_cp)\n",
    "ll = llscore_cp(ens_cp, y_grid_test, h_rot)\n",
    "print('log score: %f' %ll)"
   ]
  },
  {
   "cell_type": "code",
   "execution_count": null,
   "id": "87908288",
   "metadata": {},
   "outputs": [],
   "source": []
  }
 ],
 "metadata": {
  "kernelspec": {
   "display_name": "py38",
   "language": "python",
   "name": "py38"
  },
  "language_info": {
   "codemirror_mode": {
    "name": "ipython",
    "version": 3
   },
   "file_extension": ".py",
   "mimetype": "text/x-python",
   "name": "python",
   "nbconvert_exporter": "python",
   "pygments_lexer": "ipython3",
   "version": "3.8.5"
  }
 },
 "nbformat": 4,
 "nbformat_minor": 5
}
