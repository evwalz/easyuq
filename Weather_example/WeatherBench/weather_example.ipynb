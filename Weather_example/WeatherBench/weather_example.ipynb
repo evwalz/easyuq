{
 "cells": [
  {
   "cell_type": "markdown",
   "id": "71f933f4",
   "metadata": {},
   "source": [
    "# EasyUQ on weather example\n",
    "\n",
    "    1. Ensemble smoothing \n",
    "    2. Single gaussian applied to WeatherBench data (here: CNN)\n",
    "    3. Smooth EasyUQ applied to WeatherBench data (here: CNN)"
   ]
  },
  {
   "cell_type": "code",
   "execution_count": 1,
   "id": "ccf87e1b",
   "metadata": {},
   "outputs": [],
   "source": [
    "import numpy as np\n",
    "import pandas as pd\n",
    "import xarray as xr\n",
    "import isodisreg \n",
    "from isodisreg import idr\n",
    "from scipy import stats\n",
    "import properscoring as ps\n",
    "from helper_functions import ensemble_smoothing, llscore_ens_smoothing\n",
    "#, crps_ens_smoothing"
   ]
  },
  {
   "cell_type": "markdown",
   "id": "3c478ccf",
   "metadata": {},
   "source": [
    "### 1. Ensemble smoothing: get ensemble data from isodisreg package"
   ]
  },
  {
   "cell_type": "code",
   "execution_count": 2,
   "id": "c48fd25c",
   "metadata": {},
   "outputs": [
    {
     "name": "stdout",
     "output_type": "stream",
     "text": [
      "CRPS of ensemble: 0.755056\n"
     ]
    }
   ],
   "source": [
    "# Get data\n",
    "rain = isodisreg.load_rain()\n",
    "varNames = rain.columns[3:55]\n",
    "\n",
    "ensemble = rain[varNames].to_numpy()\n",
    "y = rain['obs'].to_numpy()\n",
    "\n",
    "ensemble_train = ensemble[:2887, ]\n",
    "ensemble_test = ensemble[2887:]\n",
    "y_train = y[:2887]\n",
    "y_test = y[2887:]\n",
    "\n",
    "# CRPS of ensemble\n",
    "crps_ens = np.mean(ps.crps_ensemble(y_test, ensemble_test))\n",
    "print('CRPS of ensemble: %f' %crps_ens)"
   ]
  },
  {
   "cell_type": "markdown",
   "id": "112696b3",
   "metadata": {},
   "source": [
    "Run ensemble smoothing and output log score and CRPS"
   ]
  },
  {
   "cell_type": "code",
   "execution_count": 4,
   "id": "05bf76c0",
   "metadata": {},
   "outputs": [],
   "source": [
    "from crpsmixture import smooth_crps_ens"
   ]
  },
  {
   "cell_type": "code",
   "execution_count": 4,
   "id": "c4fd8db7",
   "metadata": {},
   "outputs": [
    {
     "name": "stdout",
     "output_type": "stream",
     "text": [
      "Fitted df = 2 and h = 0.231860\n",
      "CRPS of smooth ensemble: 0.761099\n",
      "log score: 1.119998\n"
     ]
    }
   ],
   "source": [
    "ll_train, h, df = ensemble_smoothing(ensemble_train, y_train)\n",
    "ll = llscore_ens_smoothing(ensemble_test, y_test, h, df)\n",
    "crpss = crps_ens_smoothing(ensemble_test, y_test, h, df)\n",
    "print('Fitted df = %d' %df , 'and h = %f' %h)\n",
    "print('CRPS of smooth ensemble: %f' %crpss)\n",
    "print('log score: %f' %ll)"
   ]
  },
  {
   "cell_type": "markdown",
   "id": "5e64e137",
   "metadata": {},
   "source": [
    "### 2. Single gaussian"
   ]
  },
  {
   "cell_type": "markdown",
   "id": "000d2976",
   "metadata": {},
   "source": [
    "Get CNN forecast from WeatherBench to apply single gaussian and smooth EasyUQ"
   ]
  },
  {
   "cell_type": "code",
   "execution_count": null,
   "id": "a1c9a160",
   "metadata": {},
   "outputs": [],
   "source": [
    "# load via xarray:\n",
    "cnn_forecast_train = xr.open_dataset()\n",
    "cnn_forecast_test = xr.open_dataset()\n",
    "y_train = xr.open_dataset()\n",
    "y_test = xr.open_dataset()\n",
    "\n",
    "# select one grid point:\n",
    "lat = 13\n",
    "lon = 52\n",
    "cnn_fct_grid_train = cnn_forecast_train.sel(lat = lat, lon = lon)['t'].values\n",
    "cnn_fct_grid_test = cnn_forecast_test.sel(lat = lat, lon = lon)['t'].values\n",
    "y_grid_train = y_train.sel(lat = lat, lon = lon)['t'].values\n",
    "y_grid_test = y_test.sel(lat = lat, lon = lon)['t'].values"
   ]
  },
  {
   "cell_type": "markdown",
   "id": "5998b27c",
   "metadata": {},
   "source": [
    "Run single gaussian method"
   ]
  },
  {
   "cell_type": "code",
   "execution_count": null,
   "id": "07790340",
   "metadata": {},
   "outputs": [],
   "source": [
    "sigma = single_gaussian_optim(y_grid_train, cnn_fct_grid_train)\n",
    "crpss = np.mean(ps.crps_gaussian(y_grid_test, mu=cnn_fct_grid_test, sig=sigma)) \n",
    "ll = log_norm(y_grid_test, cnn_fct_grid_test, sigma)\n",
    "print('Fitted sigma = %f' %sigma)\n",
    "print('CRPS of single gaussian: %f' %crpss)\n",
    "print('log score: %f' %ll)"
   ]
  },
  {
   "cell_type": "markdown",
   "id": "5bfff657",
   "metadata": {},
   "source": [
    "### 3. Smooth EasyUQ via One-fit approach"
   ]
  },
  {
   "cell_type": "markdown",
   "id": "03f2366c",
   "metadata": {},
   "source": [
    "Get CNN forecast from WeatherBench to apply single gaussian and smooth EasyUQ"
   ]
  },
  {
   "cell_type": "code",
   "execution_count": null,
   "id": "b6b4b733",
   "metadata": {},
   "outputs": [],
   "source": [
    "# load via xarray:\n",
    "cnn_forecast_train = xr.open_dataset()\n",
    "cnn_forecast_test = xr.open_dataset()\n",
    "y_train = xr.open_dataset()\n",
    "y_test = xr.open_dataset()\n",
    "\n",
    "# select one grid point:\n",
    "lat = 13\n",
    "lon = 52\n",
    "cnn_fct_grid_train = cnn_forecast_train.sel(lat = lat, lon = lon)['t'].values\n",
    "cnn_fct_grid_test = cnn_forecast_test.sel(lat = lat, lon = lon)['t'].values\n",
    "y_grid_train = y_train.sel(lat = lat, lon = lon)['t'].values\n",
    "y_grid_test = y_test.sel(lat = lat, lon = lon)['t'].values"
   ]
  },
  {
   "cell_type": "code",
   "execution_count": null,
   "id": "60b88adc",
   "metadata": {},
   "outputs": [],
   "source": [
    "# Fit EasyUQ\n",
    "fitted_idr = idr(y_grid_train, pd.DataFrame({\"fore\": cnn_fct_grid_train}, columns=[\"fore\"]))\n",
    "preds_train = fitted_idr.predict(pd.DataFrame({\"fore\": cnn_fct_grid_train}, columns=[\"fore\"]))\n",
    "preds_test = fitted_idr.predict(pd.DataFrame({\"fore\": cnn_fct_grid_test}, columns=[\"fore\"]))"
   ]
  },
  {
   "cell_type": "code",
   "execution_count": null,
   "id": "1e136d5e",
   "metadata": {},
   "outputs": [],
   "source": [
    "ll_train, h, df = optimize_paras_onefit(preds_train, y_grid_train)\n",
    "crpss = smooth_crps(preds_test, y_grid_test, h, df) \n",
    "ll = llscore(preds_test, y_grid_test, h, df)\n",
    "print('Fitted df = %d' %df , 'and h = %f' %h)\n",
    "print('CRPS of smooth EasyUQ: %f' %crpss)\n",
    "print('log score: %f' %ll)"
   ]
  }
 ],
 "metadata": {
  "kernelspec": {
   "display_name": "py38",
   "language": "python",
   "name": "py38"
  },
  "language_info": {
   "codemirror_mode": {
    "name": "ipython",
    "version": 3
   },
   "file_extension": ".py",
   "mimetype": "text/x-python",
   "name": "python",
   "nbconvert_exporter": "python",
   "pygments_lexer": "ipython3",
   "version": "3.8.5"
  }
 },
 "nbformat": 4,
 "nbformat_minor": 5
}
