{
 "cells": [
  {
   "cell_type": "markdown",
   "id": "87753d68",
   "metadata": {},
   "source": [
    "# EasyUQ on precipitation example\n",
    "\n",
    "    1. Conformal prediction \n",
    "    2. EasyUQ\n",
    "    3. Single gaussian\n",
    "    4. Ensemble data"
   ]
  },
  {
   "cell_type": "code",
   "execution_count": 1,
   "id": "62bddab8",
   "metadata": {},
   "outputs": [],
   "source": [
    "import numpy as np\n",
    "import isodisreg \n",
    "from isodisreg import idr\n",
    "from helper_functions import algo72_ensemble, log_norm_optim, crps_censored_gaussian\n",
    "from helper_functions import optim_ll_dressing, optimize_paras_onefit, silver_rot\n",
    "import properscoring as ps\n",
    "import pandas as pd"
   ]
  },
  {
   "cell_type": "code",
   "execution_count": 2,
   "id": "ac475c13",
   "metadata": {},
   "outputs": [],
   "source": [
    "# lead_time: 1, 2, 3, 4, 5 (in days)\n",
    "lead_time = 1 "
   ]
  },
  {
   "cell_type": "code",
   "execution_count": 3,
   "id": "ccdc8603",
   "metadata": {},
   "outputs": [],
   "source": [
    "fra_data = np.loadtxt('./data/fra_lead_'+str(lead_time)+'.txt')\n",
    "dim_train = 2896\n",
    "dim_test = 721\n",
    "dim_train2 = dim_train-dim_test\n",
    "y = fra_data[:, 0]\n",
    "y_train = y[0:dim_train]\n",
    "y_test = y[dim_train:]\n",
    "\n",
    "hres = fra_data[:, 1]\n",
    "hres_train = hres[0:dim_train]\n",
    "hres_test = hres[dim_train:]"
   ]
  },
  {
   "cell_type": "code",
   "execution_count": 4,
   "id": "b2e6ff12",
   "metadata": {},
   "outputs": [],
   "source": [
    "# 1. Conformal prediction"
   ]
  },
  {
   "cell_type": "code",
   "execution_count": 5,
   "id": "bf864b4d",
   "metadata": {},
   "outputs": [
    {
     "name": "stdout",
     "output_type": "stream",
     "text": [
      "CRPS CP ensemble: 0.886\n",
      "CRPS zero-censored CP ensemble: 0.85\n"
     ]
    }
   ],
   "source": [
    "ens_cp = algo72_ensemble(hres_train, hres_test, y_train)\n",
    "ens_cp0 = np.where(ens_cp < 0, 0, ens_cp)\n",
    "\n",
    "print('CRPS CP ensemble:' , np.round(np.mean(ps.crps_ensemble(y_test,ens_cp)), 3))\n",
    "print('CRPS zero-censored CP ensemble:', np.round(np.mean(ps.crps_ensemble(y_test,ens_cp0)),3))"
   ]
  },
  {
   "cell_type": "code",
   "execution_count": 6,
   "id": "15544d1c",
   "metadata": {},
   "outputs": [
    {
     "name": "stdout",
     "output_type": "stream",
     "text": [
      "CRPS of smooth CP: 0.886\n",
      "CRPS of censored smooth CP 0.849\n"
     ]
    }
   ],
   "source": [
    "from crps_functions import crps_ens_precip_rot\n",
    "h_rot = silver_rot(ens_cp)\n",
    "crps_classic2, crps_censored2 = crps_ens_precip_rot(ens_cp, y_test, h_rot)\n",
    "print('CRPS of smooth CP:', np.round(crps_classic2, 3))\n",
    "print('CRPS of censored smooth CP', np.round( crps_censored2, 3))"
   ]
  },
  {
   "cell_type": "code",
   "execution_count": 7,
   "id": "b7436fdf",
   "metadata": {},
   "outputs": [],
   "source": [
    "# 2. EasyUQ"
   ]
  },
  {
   "cell_type": "code",
   "execution_count": 8,
   "id": "9aac53cb",
   "metadata": {},
   "outputs": [
    {
     "name": "stdout",
     "output_type": "stream",
     "text": [
      "CRPS of EasyUQ: 0.732\n"
     ]
    }
   ],
   "source": [
    "fit = idr(y_train, pd.DataFrame({'X': hres_train}))\n",
    "idr_train = fit.predict()\n",
    "idr_test = fit.predict(pd.DataFrame({'X': hres_test}))\n",
    "print('CRPS of EasyUQ:', np.round(np.mean(idr_test.crps(y_test)), 3))"
   ]
  },
  {
   "cell_type": "code",
   "execution_count": 9,
   "id": "d31cc073",
   "metadata": {},
   "outputs": [
    {
     "name": "stdout",
     "output_type": "stream",
     "text": [
      "CRPS of smooth EasyUQ: 0.76\n",
      "CRPS of censored smooth EasyUQ: 0.745\n"
     ]
    }
   ],
   "source": [
    "from crps_functions import crps_idr_mix, crps_idr_censored\n",
    "\n",
    "ll, h, df = optimize_paras_onefit(idr_train, y_train)\n",
    "crps_classic = crps_idr_mix(idr_test, y_test, h, df)\n",
    "crps_censored = crps_idr_censored(fit, hres_test, y_test, h, df)\n",
    "print('CRPS of smooth EasyUQ:',np.round(crps_classic, 3))\n",
    "print('CRPS of censored smooth EasyUQ:',np.round(crps_censored, 3))"
   ]
  },
  {
   "cell_type": "code",
   "execution_count": 10,
   "id": "8df44fdb",
   "metadata": {},
   "outputs": [],
   "source": [
    "# 3. Single Gaussian"
   ]
  },
  {
   "cell_type": "code",
   "execution_count": 11,
   "id": "29b4770d",
   "metadata": {},
   "outputs": [
    {
     "name": "stdout",
     "output_type": "stream",
     "text": [
      "CRPS of SG: 1.244\n",
      "CRPS of censored SG: 1.013\n"
     ]
    }
   ],
   "source": [
    "sigma = log_norm_optim(y_train, hres_train)\n",
    "print('CRPS of SG:',np.round(np.mean(ps.crps_gaussian(y_test, mu=hres_test, sig=sigma)), 3))\n",
    "print('CRPS of censored SG:',np.round(np.mean(crps_censored_gaussian(y_test, hres_test, sigma)), 3))"
   ]
  },
  {
   "cell_type": "code",
   "execution_count": 12,
   "id": "b34cc235",
   "metadata": {},
   "outputs": [],
   "source": [
    "# 4. Ensemble data for lead time 1"
   ]
  },
  {
   "cell_type": "code",
   "execution_count": 13,
   "id": "4cefd257",
   "metadata": {},
   "outputs": [
    {
     "name": "stdout",
     "output_type": "stream",
     "text": [
      "CRPS of ensemble: 0.752237\n"
     ]
    }
   ],
   "source": [
    "# Get data\n",
    "dim_train = 2896\n",
    "dim_test = 721\n",
    "rain = isodisreg.load_rain()\n",
    "varNames = rain.columns[3:55]\n",
    "\n",
    "ensemble = rain[varNames].to_numpy()\n",
    "y = rain['obs'].to_numpy()\n",
    "\n",
    "ensemble_train = ensemble[:dim_train, ]\n",
    "ensemble_test = ensemble[dim_train:]\n",
    "y_train = y[:dim_train]\n",
    "y_test = y[dim_train:]\n",
    "\n",
    "# CRPS of ensemble\n",
    "crps_ens = np.mean(ps.crps_ensemble(y_test, ensemble_test))\n",
    "print('CRPS of ensemble: %f' %crps_ens)"
   ]
  },
  {
   "cell_type": "code",
   "execution_count": 14,
   "id": "5ed50ec0",
   "metadata": {},
   "outputs": [],
   "source": [
    "from crps_functions import crps_ens_precip\n",
    "from helper_functions import optim_ll_dressing"
   ]
  },
  {
   "cell_type": "code",
   "execution_count": null,
   "id": "cf661826",
   "metadata": {},
   "outputs": [],
   "source": [
    "h, df = optim_ll_dressing(ensemble_train, y_train)\n",
    "crps_classic, crps_censored = crps_ens_precip(ensemble_test, y_test, h, df)\n",
    "print('CRPS of smooth CP:', np.round(crps_classic, 3))\n",
    "print('CRPS of censored smooth CP', np.round( crps_censored, 3))"
   ]
  },
  {
   "cell_type": "code",
   "execution_count": null,
   "id": "f4f4d9ae",
   "metadata": {},
   "outputs": [],
   "source": []
  }
 ],
 "metadata": {
  "kernelspec": {
   "display_name": "py38",
   "language": "python",
   "name": "py38"
  },
  "language_info": {
   "codemirror_mode": {
    "name": "ipython",
    "version": 3
   },
   "file_extension": ".py",
   "mimetype": "text/x-python",
   "name": "python",
   "nbconvert_exporter": "python",
   "pygments_lexer": "ipython3",
   "version": "3.8.5"
  }
 },
 "nbformat": 4,
 "nbformat_minor": 5
}
