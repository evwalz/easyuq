{
 "cells": [
  {
   "cell_type": "markdown",
   "id": "71f933f4",
   "metadata": {},
   "source": [
    "# EasyUQ on weather example\n",
    "\n",
    "    1. Ensemble smoothing \n",
    "    2. Single gaussian applied to WeatherBench data (here: CNN)\n",
    "    3. Smooth EasyUQ applied to WeatherBench data (here: CNN)"
   ]
  },
  {
   "cell_type": "code",
   "execution_count": 1,
   "id": "ccf87e1b",
   "metadata": {},
   "outputs": [],
   "source": [
    "import numpy as np\n",
    "import pandas as pd\n",
    "import xarray as xr\n",
    "import isodisreg \n",
    "from isodisreg import idr\n",
    "from scipy import stats\n",
    "import properscoring as ps\n",
    "from helper_functions import ensemble_smoothing, llscore_ens_smoothing, crps_ens_smoothing"
   ]
  },
  {
   "cell_type": "markdown",
   "id": "3c478ccf",
   "metadata": {},
   "source": [
    "### 1. Ensemble smoothing: get ensemble data from isodisreg package"
   ]
  },
  {
   "cell_type": "code",
   "execution_count": 2,
   "id": "c48fd25c",
   "metadata": {},
   "outputs": [
    {
     "name": "stdout",
     "output_type": "stream",
     "text": [
      "CRPS of ensemble: 0.755056\n"
     ]
    }
   ],
   "source": [
    "# Get data\n",
    "rain = isodisreg.load_rain()\n",
    "varNames = rain.columns[3:55]\n",
    "\n",
    "ensemble = rain[varNames].to_numpy()\n",
    "y = rain['obs'].to_numpy()\n",
    "\n",
    "ensemble_train = ensemble[:2887, ]\n",
    "ensemble_test = ensemble[2887:]\n",
    "y_train = y[:2887]\n",
    "y_test = y[2887:]\n",
    "\n",
    "# CRPS of ensemble\n",
    "crps_ens = np.mean(ps.crps_ensemble(y_test, ensemble_test))\n",
    "print('CRPS of ensemble: %f' %crps_ens)"
   ]
  },
  {
   "cell_type": "markdown",
   "id": "112696b3",
   "metadata": {},
   "source": [
    "Run ensemble smoothing and output log score and CRPS"
   ]
  },
  {
   "cell_type": "code",
   "execution_count": 4,
   "id": "c4fd8db7",
   "metadata": {},
   "outputs": [
    {
     "name": "stdout",
     "output_type": "stream",
     "text": [
      "Fitted df = 2 and h = 0.231860\n",
      "log score: 1.119998\n"
     ]
    }
   ],
   "source": [
    "ll_train, h, df = ensemble_smoothing(ensemble_train, y_train)\n",
    "ll = llscore_ens_smoothing(ensemble_test, y_test, h, df)\n",
    "#crpss = crps_ens_smoothing(ensemble_test, y_test, h, df)\n",
    "print('Fitted df = %d' %df , 'and h = %f' %h)\n",
    "#print('CRPS of smooth ensemble: %f' %crpss)\n",
    "print('log score: %f' %ll)"
   ]
  },
  {
   "cell_type": "markdown",
   "id": "5e64e137",
   "metadata": {},
   "source": [
    "### 2. CNN data from WeatherBench \n",
    "\n",
    "Get CNN forecast from WeatherBench to apply single gaussian and smooth EasyUQ (https://github.com/pangeo-data/WeatherBench)"
   ]
  },
  {
   "cell_type": "code",
   "execution_count": 2,
   "id": "5ae66cf7",
   "metadata": {},
   "outputs": [],
   "source": [
    "# load via xarray:\n",
    "cnn_forecast_train = xr.open_dataset('./data/fct_train_cnn_lead72_subset.nc')\n",
    "cnn_forecast_test = xr.open_dataset('./data/fct_test_cnn_lead72_subset.nc')\n",
    "y_train = xr.open_dataset('./data/obs_train_cnn_lead72_subset.nc')\n",
    "y_test = xr.open_dataset('./data/obs_test_cnn_lead72_subset.nc')"
   ]
  },
  {
   "cell_type": "code",
   "execution_count": 3,
   "id": "a1c9a160",
   "metadata": {},
   "outputs": [],
   "source": [
    "# select one grid point:\n",
    "lat = 14.0625\n",
    "lon = 50.625\n",
    "cnn_fct_grid_train = cnn_forecast_train.sel(lat = lat, lon = lon)['t'].values\n",
    "cnn_fct_grid_test = cnn_forecast_test.sel(lat = lat, lon = lon)['t'].values\n",
    "y_grid_train = y_train.sel(lat = lat, lon = lon)['t'].values\n",
    "y_grid_test = y_test.sel(lat = lat, lon = lon)['t'].values"
   ]
  },
  {
   "cell_type": "markdown",
   "id": "5998b27c",
   "metadata": {},
   "source": [
    "### Run single gaussian method"
   ]
  },
  {
   "cell_type": "code",
   "execution_count": 4,
   "id": "9d15f2df",
   "metadata": {},
   "outputs": [],
   "source": [
    "from helper_functions import single_gaussian_optim, log_norm"
   ]
  },
  {
   "cell_type": "code",
   "execution_count": 5,
   "id": "07790340",
   "metadata": {},
   "outputs": [
    {
     "name": "stdout",
     "output_type": "stream",
     "text": [
      "Fitted sigma = 1.781012\n",
      "CRPS of single gaussian: 1.034711\n",
      "log score: 2.031592\n"
     ]
    }
   ],
   "source": [
    "sigma = single_gaussian_optim(y_grid_train, cnn_fct_grid_train)\n",
    "crpss = np.mean(ps.crps_gaussian(y_grid_test, mu=cnn_fct_grid_test, sig=sigma)) \n",
    "ll = log_norm(y_grid_test, cnn_fct_grid_test, sigma)\n",
    "print('Fitted sigma = %f' %sigma)\n",
    "print('CRPS of single gaussian: %f' %crpss)\n",
    "print('log score: %f' %ll)"
   ]
  },
  {
   "cell_type": "markdown",
   "id": "5bfff657",
   "metadata": {},
   "source": [
    "### Run smooth EasyUQ via One-fit approach"
   ]
  },
  {
   "cell_type": "code",
   "execution_count": 7,
   "id": "60b88adc",
   "metadata": {},
   "outputs": [],
   "source": [
    "# Fit EasyUQ\n",
    "fitted_idr = idr(y_grid_train, pd.DataFrame({\"fore\": cnn_fct_grid_train}, columns=[\"fore\"]))\n",
    "preds_train = fitted_idr.predict(pd.DataFrame({\"fore\": cnn_fct_grid_train}, columns=[\"fore\"]))\n",
    "preds_test = fitted_idr.predict(pd.DataFrame({\"fore\": cnn_fct_grid_test}, columns=[\"fore\"]))"
   ]
  },
  {
   "cell_type": "code",
   "execution_count": 9,
   "id": "df236023",
   "metadata": {},
   "outputs": [
    {
     "name": "stdout",
     "output_type": "stream",
     "text": [
      "CRPS of IDR: 0.996248\n"
     ]
    }
   ],
   "source": [
    "print('CRPS of IDR: %f' %np.mean(preds_test.crps(y_grid_test)))"
   ]
  },
  {
   "cell_type": "code",
   "execution_count": 8,
   "id": "9298fd35",
   "metadata": {},
   "outputs": [],
   "source": [
    "from helper_functions import optimize_paras_onefit, llscore\n",
    "from crpsmixture import smooth_crps"
   ]
  },
  {
   "cell_type": "code",
   "execution_count": 9,
   "id": "1e136d5e",
   "metadata": {},
   "outputs": [
    {
     "name": "stdout",
     "output_type": "stream",
     "text": [
      "Fitted Gaussian and h = 0.652871\n",
      "CRPS of smooth EasyUQ: 0.992891\n",
      "log score: 1.996410\n"
     ]
    }
   ],
   "source": [
    "ll_train, h, df = optimize_paras_onefit(preds_train, y_grid_train)\n",
    "crpss = smooth_crps(preds_test, y_grid_test, h, df) \n",
    "ll = llscore(preds_test, y_grid_test, h, df)\n",
    "if df == None:\n",
    "    print('Fitted Gaussian and h = %f' %h)\n",
    "else:\n",
    "    print('Fitted df = %d' %df , 'and h = %f' %h)\n",
    "print('CRPS of smooth EasyUQ: %f' %crpss)\n",
    "print('log score: %f' %ll)"
   ]
  }
 ],
 "metadata": {
  "kernelspec": {
   "display_name": "py38",
   "language": "python",
   "name": "py38"
  },
  "language_info": {
   "codemirror_mode": {
    "name": "ipython",
    "version": 3
   },
   "file_extension": ".py",
   "mimetype": "text/x-python",
   "name": "python",
   "nbconvert_exporter": "python",
   "pygments_lexer": "ipython3",
   "version": "3.8.5"
  }
 },
 "nbformat": 4,
 "nbformat_minor": 5
}
