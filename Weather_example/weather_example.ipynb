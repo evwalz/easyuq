{
 "cells": [
  {
   "cell_type": "markdown",
   "id": "fcae7a62",
   "metadata": {},
   "source": [
    "# EasyUQ on weather example\n",
    "\n",
    "    1. Ensemble smoothing \n",
    "    2. Single gaussian applied to WeatherBench data (here: CNN)\n",
    "    3. Smooth EasyUQ applied to WeatherBench data (here: CNN)"
   ]
  },
  {
   "cell_type": "code",
   "execution_count": null,
   "id": "2eb0a35e",
   "metadata": {},
   "outputs": [],
   "source": [
    "import numpy as np\n",
    "import pandas as pd\n",
    "import xarray as xr\n",
    "import isodisreg \n",
    "from isodisreg import idr\n",
    "from scipy import stats\n",
    "import properscoring as ps"
   ]
  },
  {
   "cell_type": "code",
   "execution_count": null,
   "id": "babac919",
   "metadata": {},
   "outputs": [],
   "source": [
    "# 1. Ensemble smoothing: Simulate ensemble data:\n",
    "ensemble = \n",
    "y = \n",
    "\n",
    "ensemble_train = \n",
    "ensemble_test = \n",
    "y_train = \n",
    "y_test = \n",
    "\n",
    "# CRPS of ensemble\n",
    "crps_ens = ps.crps_ensemble(y_test, ensemble_test)\n",
    "print(crps_ens)\n",
    "\n",
    "# Run ensemble smoothing and output log score and CRPS\n",
    "ll_train, h, df = ensemble_smoothing(ensemble_test, y_test)\n",
    "ll = \n",
    "crpss =\n",
    "print(crpss)\n",
    "print(ll)"
   ]
  },
  {
   "cell_type": "code",
   "execution_count": null,
   "id": "7e69efb3",
   "metadata": {},
   "outputs": [],
   "source": [
    "# 2. + 3.: get NN data from WeatherBench:\n",
    "cnn_forecast_train = xr.open_dataset()\n",
    "cnn_forecast_test = xr.open_dataset()\n",
    "y_train = xr.open_dataset()\n",
    "y_test = xr.open_dataset()\n",
    "\n",
    "# select one grid point:\n",
    "lat = \n",
    "lon = \n",
    "\n",
    ".sel(lat = lat, lon = lon)['t'].values"
   ]
  },
  {
   "cell_type": "code",
   "execution_count": null,
   "id": "5da497c9",
   "metadata": {},
   "outputs": [],
   "source": [
    "# 2. Single gaussian:"
   ]
  },
  {
   "cell_type": "code",
   "execution_count": null,
   "id": "4a925703",
   "metadata": {},
   "outputs": [],
   "source": [
    "# 3. Smooth EasyUQ via One-fit approach"
   ]
  }
 ],
 "metadata": {
  "kernelspec": {
   "display_name": "py38",
   "language": "python",
   "name": "py38"
  },
  "language_info": {
   "codemirror_mode": {
    "name": "ipython",
    "version": 3
   },
   "file_extension": ".py",
   "mimetype": "text/x-python",
   "name": "python",
   "nbconvert_exporter": "python",
   "pygments_lexer": "ipython3",
   "version": "3.8.5"
  }
 },
 "nbformat": 4,
 "nbformat_minor": 5
}
